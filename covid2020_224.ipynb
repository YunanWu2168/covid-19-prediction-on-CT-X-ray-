{
 "cells": [
  {
   "cell_type": "code",
   "execution_count": 1,
   "metadata": {},
   "outputs": [],
   "source": [
    "import numpy as np\n",
    "import pandas as pd\n",
    "import pydicom\n",
    "import os\n",
    "import matplotlib.pyplot as plt\n",
    "import collections\n",
    "from tqdm import tqdm_notebook as tqdm\n",
    "from datetime import datetime\n",
    "# from imgaug import augmenters as iaa\n",
    "from scipy import ndimage\n",
    "from math import ceil, floor, log\n",
    "import cv2\n",
    "import tensorflow as tf\n",
    "import tensorflow.keras as keras\n",
    "# import keras\n",
    "\n",
    "from tensorflow.keras.preprocessing.image import ImageDataGenerator\n",
    "import sys\n",
    "import heapq\n",
    "import efficientnet.tfkeras as efn \n",
    "# from efficientnet.tfkeras import EfficientNetB0\n",
    "from iterstrat.ml_stratifiers import MultilabelStratifiedShuffleSplit\n",
    "\n",
    "from sklearn.model_selection import ShuffleSplit\n",
    "\n",
    "\n",
    "os.environ['TF_CPP_MIN_LOG_LEVEL'] = '2'\n",
    "from tensorflow.python.util import deprecation\n",
    "deprecation._PRINT_DEPRECATION_WARNINGS = False\n",
    "tf.compat.v1.logging.set_verbosity(tf.compat.v1.logging.ERROR)"
   ]
  },
  {
   "cell_type": "code",
   "execution_count": 2,
   "metadata": {},
   "outputs": [
    {
     "data": {
      "text/plain": [
       "True"
      ]
     },
     "execution_count": 2,
     "metadata": {},
     "output_type": "execute_result"
    }
   ],
   "source": [
    "tf.test.is_gpu_available()"
   ]
  },
  {
   "cell_type": "code",
   "execution_count": 3,
   "metadata": {
    "collapsed": true
   },
   "outputs": [],
   "source": [
    "imagenet_mean = np.array([0.485, 0.456, 0.406])\n",
    "imagenet_std = np.array([0.229, 0.224, 0.225])\n",
    "\n",
    "def preprocess (img):\n",
    "    img /= 255\n",
    "    centered = np.subtract(img, imagenet_mean)\n",
    "    standardized = np.divide(centered, imagenet_std)\n",
    "    return standardized \n",
    "    return img   "
   ]
  },
  {
   "cell_type": "code",
   "execution_count": 4,
   "metadata": {
    "collapsed": true
   },
   "outputs": [],
   "source": [
    "train_datagen = ImageDataGenerator(\n",
    "                                   preprocessing_function=preprocess,\n",
    "#                                    height_shift_range=0.05,\n",
    "#                                    width_shift_range=0.05,\n",
    "                                   rotation_range=20,\n",
    "                                   zoom_range=0.05,\n",
    "                                   brightness_range=[0.9,1.1],\n",
    "                                   fill_mode='constant',\n",
    "#                                    horizontal_flip=True\n",
    "                                                                            )\n",
    "test_datagen = ImageDataGenerator(\n",
    "                                  preprocessing_function=preprocess\n",
    "                                                                            )"
   ]
  },
  {
   "cell_type": "code",
   "execution_count": 5,
   "metadata": {},
   "outputs": [
    {
     "name": "stdout",
     "output_type": "stream",
     "text": [
      "Found 5656 images belonging to 2 classes.\n",
      "Found 1887 images belonging to 2 classes.\n"
     ]
    }
   ],
   "source": [
    "train_generator = train_datagen.flow_from_directory('C:/Users/physics/Documents/NMHFiles_224/Train', \n",
    "                                                    target_size=(224, 224), \n",
    "                                                    class_mode= 'binary', \n",
    "                                                    color_mode='rgb', \n",
    "                                                    batch_size=20,\n",
    "                                                    interpolation ='lanczos'\n",
    "                                                    )\n",
    "validation_generator = test_datagen.flow_from_directory('C:/Users/physics/Documents/NMHFiles_224/Validate', \n",
    "                                                        target_size=(224, 224), \n",
    "                                                        class_mode= 'binary',\n",
    "                                                        color_mode='rgb', \n",
    "                                                        batch_size=20,\n",
    "                                                        interpolation ='lanczos'\n",
    "                                                        )"
   ]
  },
  {
   "cell_type": "code",
   "execution_count": 6,
   "metadata": {
    "collapsed": true
   },
   "outputs": [],
   "source": [
    "# This function will plot images in the form of a grid with 1 row and 5 columns where images are placed in each column.\n",
    "def plotImages(images_arr):\n",
    "    fig, axes = plt.subplots(2, 5, figsize=(40,40))\n",
    "    axes = axes.flatten()\n",
    "    for img, ax in zip(images_arr, axes):\n",
    "        ax.imshow(img)\n",
    "        ax.axis('off')\n",
    "    plt.tight_layout()\n",
    "    plt.show()"
   ]
  },
  {
   "cell_type": "code",
   "execution_count": 7,
   "metadata": {
    "collapsed": true
   },
   "outputs": [],
   "source": [
    "# sample_training_images, _ = next(train_generator)\n",
    "# sample_training_images = np.multiply(sample_training_images, imagenet_std)\n",
    "# sample_training_images = np.add(sample_training_images, imagenet_mean)\n",
    "# plotImages(sample_training_images)"
   ]
  },
  {
   "cell_type": "code",
   "execution_count": 2,
   "metadata": {},
   "outputs": [],
   "source": [
    "base_model = efn.EfficientNetB2(include_top=False, weights= None, input_shape=(224,224,3),\n",
    "                             backend = keras.backend, layers = keras.layers, models = keras.models, utils = keras.utils)\n",
    "x = keras.layers.GlobalAveragePooling2D(name='avg_pool')(base_model.output)\n",
    "x = keras.layers.Dropout(0.125)(x)\n",
    "predictions = keras.layers.Dense(1, activation=\"sigmoid\", name='last')(x)\n",
    "model = keras.models.Model(inputs=base_model.input, outputs=predictions)\n",
    "model.summary()     "
   ]
  },
  {
   "cell_type": "code",
   "execution_count": 9,
   "metadata": {
    "collapsed": true
   },
   "outputs": [],
   "source": [
    "model.load_weights('')"
   ]
  },
  {
   "cell_type": "code",
   "execution_count": 10,
   "metadata": {},
   "outputs": [
    {
     "data": {
      "text/plain": [
       "332"
      ]
     },
     "execution_count": 10,
     "metadata": {},
     "output_type": "execute_result"
    }
   ],
   "source": [
    "len(base_model.layers)"
   ]
  },
  {
   "cell_type": "code",
   "execution_count": 11,
   "metadata": {
    "collapsed": true
   },
   "outputs": [],
   "source": [
    "for layer in model.layers[:332]:\n",
    "    layer.trainable = False\n",
    "for layer in model.layers[332:]:\n",
    "    layer.trainable = True"
   ]
  },
  {
   "cell_type": "code",
   "execution_count": 12,
   "metadata": {
    "collapsed": true
   },
   "outputs": [],
   "source": [
    "model.compile(loss='binary_crossentropy', \n",
    "              optimizer=keras.optimizers.SGD(lr=0.01, momentum=0.9,nesterov=True),\n",
    "              metrics=['acc',                       \n",
    "                     keras.metrics.AUC(),\n",
    "                     keras.metrics.Precision(name='precision'),\n",
    "                     keras.metrics.Recall(name='recall')])"
   ]
  },
  {
   "cell_type": "code",
   "execution_count": 13,
   "metadata": {
    "collapsed": true
   },
   "outputs": [],
   "source": [
    "from tensorflow.keras.callbacks import EarlyStopping, ModelCheckpoint, ReduceLROnPlateau\n",
    "weightpath = 'auc_weight_NIH_224.hdf5'\n",
    "es = EarlyStopping(monitor='val_auc', \n",
    "                   verbose=1, \n",
    "                   patience=10, \n",
    "                   min_delta=0.001, \n",
    "                   mode='max')\n",
    "mc = ModelCheckpoint(weightpath, \n",
    "                     monitor='val_auc', \n",
    "                     verbose=1, \n",
    "                     save_best_only=True, \n",
    "                     mode='max')\n",
    "rlr = ReduceLROnPlateau(monitor='val_auc',\n",
    "                        mode='max',\n",
    "                        factor=0.1,\n",
    "                        patience=3)"
   ]
  },
  {
   "cell_type": "code",
   "execution_count": 14,
   "metadata": {},
   "outputs": [
    {
     "name": "stdout",
     "output_type": "stream",
     "text": [
      "{0: 0.7017369727047147, 1: 1.7392373923739237}\n"
     ]
    }
   ],
   "source": [
    "class_weights = {0: (5656/4030)/2,\n",
    "                1: (5656/1626)/2}\n",
    "print(class_weights)\n",
    "\n"
   ]
  },
  {
   "cell_type": "code",
   "execution_count": 15,
   "metadata": {
    "collapsed": true
   },
   "outputs": [],
   "source": [
    "# from tensorflow.compat.v1 import ConfigProto\n",
    "# from tensorflow.compat.v1 import InteractiveSession\n",
    "\n",
    "# config = ConfigProto()\n",
    "# config.gpu_options.allow_growth = True\n",
    "# session = InteractiveSession(config=config)"
   ]
  },
  {
   "cell_type": "code",
   "execution_count": 3,
   "metadata": {},
   "outputs": [],
   "source": [
    "history = model.fit_generator(train_generator, \n",
    "                              epochs = 30, \n",
    "                              validation_data=validation_generator, \n",
    "                              class_weight = class_weights, \n",
    "                             callbacks = [es, mc,rlr])"
   ]
  },
  {
   "cell_type": "code",
   "execution_count": 4,
   "metadata": {},
   "outputs": [],
   "source": [
    "plt.plot(history.history['acc'])\n",
    "plt.plot(history.history['val_acc'])\n",
    "plt.title('Model accuracy')\n",
    "plt.ylabel('Accuracy')\n",
    "plt.xlabel('Epoch')\n",
    "plt.legend(['Train', 'Val'], loc='upper left')\n",
    "plt.savefig('insert_path')\n",
    "plt.show()"
   ]
  },
  {
   "cell_type": "code",
   "execution_count": 5,
   "metadata": {},
   "outputs": [],
   "source": [
    "plt.plot(history.history['loss'])\n",
    "plt.plot(history.history['val_loss'])\n",
    "plt.title('Model loss')\n",
    "plt.ylabel('Loss')\n",
    "plt.xlabel('Epoch')\n",
    "plt.legend(['Train', 'Val'], loc='upper left')\n",
    "plt.savefig('insert_path')\n",
    "plt.show()"
   ]
  },
  {
   "cell_type": "code",
   "execution_count": 6,
   "metadata": {},
   "outputs": [],
   "source": [
    "plt.plot(history.history['auc'])\n",
    "plt.plot(history.history['val_auc'])\n",
    "plt.title('Model auc')\n",
    "plt.ylabel('AUC')\n",
    "plt.xlabel('Epoch')\n",
    "plt.legend(['Train', 'Val'], loc='upper left')\n",
    "plt.savefig('insert_path')\n",
    "plt.show()"
   ]
  },
  {
   "cell_type": "code",
   "execution_count": 7,
   "metadata": {},
   "outputs": [],
   "source": [
    "plt.plot(history.history['precision'])\n",
    "plt.plot(history.history['val_precision'])\n",
    "plt.title('Model precision')\n",
    "plt.ylabel('Precision')\n",
    "plt.xlabel('Epoch')\n",
    "plt.legend(['Train', 'Val'], loc='upper left')\n",
    "plt.savefig('insert_path')\n",
    "plt.show()"
   ]
  },
  {
   "cell_type": "code",
   "execution_count": 8,
   "metadata": {},
   "outputs": [],
   "source": [
    "plt.plot(history.history['recall'])\n",
    "plt.plot(history.history['val_recall'])\n",
    "plt.title('Model recall')\n",
    "plt.ylabel('Recall')\n",
    "plt.xlabel('Epoch')\n",
    "plt.legend(['Train', 'Val'], loc='upper left')\n",
    "plt.savefig('insert_path')\n",
    "plt.show()"
   ]
  },
  {
   "cell_type": "code",
   "execution_count": 23,
   "metadata": {
    "collapsed": true
   },
   "outputs": [],
   "source": [
    "model.load_weights('auc_weight_NIH_224.hdf5')"
   ]
  },
  {
   "cell_type": "code",
   "execution_count": 24,
   "metadata": {
    "collapsed": true
   },
   "outputs": [],
   "source": [
    "for layer in model.layers[:]:\n",
    "    layer.trainable = True"
   ]
  },
  {
   "cell_type": "code",
   "execution_count": 25,
   "metadata": {
    "collapsed": true
   },
   "outputs": [],
   "source": [
    "es = EarlyStopping(monitor='val_auc', \n",
    "                   verbose=1, \n",
    "                   patience=10, \n",
    "                   min_delta=0.001, \n",
    "                   mode='max')\n",
    "mc = ModelCheckpoint('auc_weight_NIH2_224.hdf5', \n",
    "                     monitor='val_auc', \n",
    "                     verbose=1, \n",
    "                     save_best_only=True, \n",
    "                     mode='max')\n",
    "rlr = ReduceLROnPlateau(monitor='val_auc',\n",
    "                        mode='max',\n",
    "                        factor=0.1,\n",
    "                        patience=2)"
   ]
  },
  {
   "cell_type": "code",
   "execution_count": 26,
   "metadata": {
    "collapsed": true
   },
   "outputs": [],
   "source": [
    "model.compile(loss='binary_crossentropy', optimizer=keras.optimizers.SGD(learning_rate=0.001, momentum=0.9,nesterov=True), \n",
    "              metrics=['acc', \n",
    "                       tf.keras.metrics.AUC(name='auc'), \n",
    "                       tf.keras.metrics.Precision(name='precision'), \n",
    "                       tf.keras.metrics.Recall(name='recall')])"
   ]
  },
  {
   "cell_type": "code",
   "execution_count": 9,
   "metadata": {},
   "outputs": [],
   "source": [
    "history = model.fit_generator(train_generator, \n",
    "                              epochs = 50, \n",
    "                              validation_data=validation_generator, \n",
    "                              class_weight = class_weights,\n",
    "                             callbacks = [es, mc,rlr],\n",
    "                             use_multiprocessing=False)"
   ]
  },
  {
   "cell_type": "code",
   "execution_count": 10,
   "metadata": {},
   "outputs": [],
   "source": [
    "plt.plot(history.history['acc'])\n",
    "plt.plot(history.history['val_acc'])\n",
    "plt.title('Model accuracy')\n",
    "plt.ylabel('Accuracy')\n",
    "plt.xlabel('Epoch')\n",
    "plt.legend(['Train', 'Val'], loc='upper left')\n",
    "plt.savefig('insert_path')\n",
    "plt.show()"
   ]
  },
  {
   "cell_type": "code",
   "execution_count": 11,
   "metadata": {},
   "outputs": [],
   "source": [
    "plt.plot(history.history['loss'])\n",
    "plt.plot(history.history['val_loss'])\n",
    "plt.title('Model loss')\n",
    "plt.ylabel('Loss')\n",
    "plt.xlabel('Epoch')\n",
    "plt.legend(['Train', 'Val'], loc='upper left')\n",
    "plt.savefig('insert_path')\n",
    "plt.show()"
   ]
  },
  {
   "cell_type": "code",
   "execution_count": 12,
   "metadata": {},
   "outputs": [],
   "source": [
    "plt.plot(history.history['auc'])\n",
    "plt.plot(history.history['val_auc'])\n",
    "plt.title('Model auc')\n",
    "plt.ylabel('AUC')\n",
    "plt.xlabel('Epoch')\n",
    "plt.legend(['Train', 'Val'], loc='upper left')\n",
    "plt.savefig('insert_path')\n",
    "plt.show()"
   ]
  },
  {
   "cell_type": "code",
   "execution_count": 13,
   "metadata": {},
   "outputs": [],
   "source": [
    "plt.plot(history.history['precision'])\n",
    "plt.plot(history.history['val_precision'])\n",
    "plt.title('Model precision')\n",
    "plt.ylabel('Precision')\n",
    "plt.xlabel('Epoch')\n",
    "plt.legend(['Train', 'Val'], loc='upper left')\n",
    "plt.savefig('insert_path')\n",
    "plt.show()"
   ]
  },
  {
   "cell_type": "code",
   "execution_count": 14,
   "metadata": {},
   "outputs": [],
   "source": [
    "from sklearn.metrics import classification_report, confusion_matrix\n",
    "test_generator = test_datagen.flow_from_directory('Test', \n",
    "                                                        target_size=(224, 224), \n",
    "                                                        class_mode= 'binary',\n",
    "                                                        color_mode='rgb', \n",
    "                                                        batch_size=200,\n",
    "                                                        interpolation='lanczos',\n",
    "                                                       shuffle=False)\n",
    "Y_pred = model.predict(test_generator, verbose = 1, steps = 10)\n",
    "y_pred = np.round(Y_pred)\n",
    "print('Confusion Matrix')\n",
    "cm = confusion_matrix(test_generator.classes, y_pred)\n",
    "target_names = ['COVID-Neg', 'COVID-Pos']\n",
    "print(cm)\n",
    "# disp = ConfusionMatrixDisplay(cm, display_labels=target_names)\n",
    "# disp = disp.plot(cmap='Blues', values_format='.0f')\n",
    "# plt.savefig('/deepcovidxr/Ramsey_Keras/Resnet_cm.pdf')\n",
    "plt.show()\n",
    "print('Classification Report')\n",
    "print(classification_report(test_generator.classes, y_pred, target_names=target_names))"
   ]
  },
  {
   "cell_type": "code",
   "execution_count": 15,
   "metadata": {},
   "outputs": [],
   "source": [
    "from sklearn.metrics import roc_curve, auc\n",
    "fpr, tpr, thresholds = roc_curve(test_generator.classes, Y_pred)\n",
    "auc = auc(fpr, tpr)\n",
    "plt.figure(1)\n",
    "plt.plot([0, 1], [0, 1], 'k--')\n",
    "plt.plot(fpr, tpr, label='AUC = {:.3f}'.format(auc))\n",
    "plt.xlabel('1-Specificity')\n",
    "plt.ylabel('Sensitivity')\n",
    "plt.title('ROC curve')\n",
    "plt.legend(loc='lower right')\n",
    "plt.show()"
   ]
  },
  {
   "cell_type": "code",
   "execution_count": 16,
   "metadata": {},
   "outputs": [],
   "source": [
    "from tqdm import tqdm\n",
    "#Confusion Matrix and Classification Report\n",
    "test_generator = train_datagen.flow_from_directory('NMHFiles_224/Test', \n",
    "                                                        target_size=(224, 224), \n",
    "                                                        class_mode= 'binary',\n",
    "                                                        color_mode='rgb', \n",
    "                                                        batch_size=200,\n",
    "                                                        interpolation='lanczos',\n",
    "                                                       shuffle=False)\n",
    "tta_steps = 10\n",
    "predictions = []\n",
    "for i in tqdm(range(tta_steps)):\n",
    "    preds = model.predict(test_generator, steps = 10, verbose=1)\n",
    "    predictions.append(preds)\n",
    "Y_pred = np.mean(predictions, axis=0)\n",
    "# Y_pred = model.predict(test_generator, verbose = 1, steps = 10)\n",
    "y_pred = np.round(Y_pred)\n",
    "print('Confusion Matrix')\n",
    "cm = confusion_matrix(test_generator.classes, y_pred)\n",
    "print(cm)\n",
    "target_names = ['COVID-Neg', 'COVID-Pos']\n",
    "# disp = ConfusionMatrixDisplay(cm, display_labels=target_names)\n",
    "# disp = disp.plot(cmap='Blues', values_format='.0f')\n",
    "# plt.savefig('/deepcovidxr/Ramsey_Keras/Resnet_cm.pdf')\n",
    "# plt.show()\n",
    "print('Classification Report')\n",
    "print(classification_report(test_generator.classes, y_pred, target_names=target_names))"
   ]
  },
  {
   "cell_type": "code",
   "execution_count": 17,
   "metadata": {},
   "outputs": [],
   "source": [
    "from sklearn.metrics import roc_curve, auc\n",
    "fpr, tpr, thresholds = roc_curve(test_generator.classes, Y_pred)\n",
    "auc = auc(fpr, tpr)\n",
    "plt.figure(1)\n",
    "plt.plot([0, 1], [0, 1], 'k--')\n",
    "plt.plot(fpr, tpr, label='AUC = {:.3f}'.format(auc))\n",
    "plt.xlabel('1-Specificity')\n",
    "plt.ylabel('Sensitivity')\n",
    "plt.title('ROC curve')\n",
    "plt.legend(loc='lower right')\n",
    "plt.show()"
   ]
  }
 ],
 "metadata": {
  "kernelspec": {
   "display_name": "Python 3",
   "language": "python",
   "name": "python3"
  },
  "language_info": {
   "codemirror_mode": {
    "name": "ipython",
    "version": 3
   },
   "file_extension": ".py",
   "mimetype": "text/x-python",
   "name": "python",
   "nbconvert_exporter": "python",
   "pygments_lexer": "ipython3",
   "version": "3.5.3"
  }
 },
 "nbformat": 4,
 "nbformat_minor": 4
}
